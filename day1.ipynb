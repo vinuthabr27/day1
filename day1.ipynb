{
 "cells": [
  {
   "cell_type": "code",
   "execution_count": null,
   "id": "d5ddbfef",
   "metadata": {},
   "outputs": [],
   "source": [
    "l=[\"hemu\",\"hemu\",\"hemu\",\"vinu\",\"hemu\"]\n",
    "l.count(\"hemu\")"
   ]
  },
  {
   "cell_type": "code",
   "execution_count": null,
   "id": "4e82525b",
   "metadata": {},
   "outputs": [],
   "source": [
    "l=[\"hemu\",\"hemu\",\"hemu\",\"vinu\",\"hemu\"]\n",
    "\n",
    "    "
   ]
  },
  {
   "cell_type": "code",
   "execution_count": null,
   "id": "faef824e",
   "metadata": {},
   "outputs": [],
   "source": [
    "l=[\"hemu\",\"hemu\",\"hemu\",\"vinu\",\"hemu\"]"
   ]
  },
  {
   "cell_type": "code",
   "execution_count": null,
   "id": "86711468",
   "metadata": {},
   "outputs": [],
   "source": [
    "x=0\n",
    "for i in l:\n",
    "    if i==\"hemu\":\n",
    "        x=x+1\n",
    "print(x)   "
   ]
  },
  {
   "cell_type": "code",
   "execution_count": null,
   "id": "9f45b930",
   "metadata": {},
   "outputs": [],
   "source": [
    "l=(\"lala\",\"malala\",86574674,\"malala\",1,2,3,86574674)"
   ]
  },
  {
   "cell_type": "code",
   "execution_count": null,
   "id": "a92a7206",
   "metadata": {},
   "outputs": [],
   "source": [
    "x=0\n",
    "for i in l:\n",
    "    if i<=86574674:\n",
    "        x=x+1\n",
    "        print(x)"
   ]
  },
  {
   "cell_type": "code",
   "execution_count": null,
   "id": "a7017984",
   "metadata": {},
   "outputs": [],
   "source": [
    "l=(12,34,57,47,68,)"
   ]
  },
  {
   "cell_type": "code",
   "execution_count": null,
   "id": "7aa261f8",
   "metadata": {},
   "outputs": [],
   "source": [
    "x=0\n",
    "for i in l:\n",
    "    if i>34:\n",
    "        print(\"12 is lesser\")\n",
    "    elif i>57:\n",
    "        print(\"34is lesser\")\n",
    "    elif i>47:\n",
    "        print(\"57is lesser\")\n",
    "    elif i>68:\n",
    "        print(\"47is lesser\")    "
   ]
  },
  {
   "cell_type": "code",
   "execution_count": null,
   "id": "78fdb57d",
   "metadata": {},
   "outputs": [],
   "source": [
    "x=0\n",
    "for i in l:\n",
    "    if i>=34:\n",
    "        print(\"12 is lesser\")\n",
    "    else:\n",
    "        print(\"34is bigger\")\n",
    "    elif i>=57:    "
   ]
  },
  {
   "cell_type": "code",
   "execution_count": 2,
   "id": "2c317cc9",
   "metadata": {},
   "outputs": [],
   "source": [
    "l=(12,34,57,47,68,)"
   ]
  },
  {
   "cell_type": "code",
   "execution_count": 7,
   "id": "da34b3e7",
   "metadata": {},
   "outputs": [
    {
     "name": "stdout",
     "output_type": "stream",
     "text": [
      "(12, 34, 57, 47, 68)\n",
      "(12, 34, 57, 47, 68)\n",
      "(12, 34, 57, 47, 68)\n",
      "(12, 34, 57, 47, 68)\n",
      "(12, 34, 57, 47, 68)\n"
     ]
    }
   ],
   "source": [
    "l=(12,34,57,47,68,)\n",
    "s=l[0]\n",
    "for i in l:\n",
    "    print(l)"
   ]
  },
  {
   "cell_type": "code",
   "execution_count": 10,
   "id": "2723ec19",
   "metadata": {},
   "outputs": [
    {
     "name": "stdout",
     "output_type": "stream",
     "text": [
      "34\n"
     ]
    }
   ],
   "source": [
    "l=(98,34,57,47,68,)\n",
    "s=l[0]\n",
    "for i in l:\n",
    "    if i<s:\n",
    "        s=i\n",
    "print(s)        "
   ]
  },
  {
   "cell_type": "code",
   "execution_count": null,
   "id": "e9ae6ead",
   "metadata": {},
   "outputs": [],
   "source": []
  }
 ],
 "metadata": {
  "kernelspec": {
   "display_name": "Python 3 (ipykernel)",
   "language": "python",
   "name": "python3"
  },
  "language_info": {
   "codemirror_mode": {
    "name": "ipython",
    "version": 3
   },
   "file_extension": ".py",
   "mimetype": "text/x-python",
   "name": "python",
   "nbconvert_exporter": "python",
   "pygments_lexer": "ipython3",
   "version": "3.11.3"
  }
 },
 "nbformat": 4,
 "nbformat_minor": 5
}
